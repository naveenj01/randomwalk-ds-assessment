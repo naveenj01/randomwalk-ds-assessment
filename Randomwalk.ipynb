{
 "cells": [
  {
   "cell_type": "code",
   "execution_count": 1,
   "id": "32070dd6",
   "metadata": {},
   "outputs": [],
   "source": [
    "# importing libraries\n",
    "import pandas as pd\n",
    "import numpy as np\n",
    "import matplotlib.pyplot as plt"
   ]
  },
  {
   "cell_type": "code",
   "execution_count": 2,
   "id": "634af3e4",
   "metadata": {},
   "outputs": [],
   "source": [
    "# reading the given csv \n",
    "df = pd.read_csv(\"books.csv\")"
   ]
  },
  {
   "cell_type": "code",
   "execution_count": 3,
   "id": "6b95a5e6",
   "metadata": {},
   "outputs": [
    {
     "data": {
      "text/html": [
       "<div>\n",
       "<style scoped>\n",
       "    .dataframe tbody tr th:only-of-type {\n",
       "        vertical-align: middle;\n",
       "    }\n",
       "\n",
       "    .dataframe tbody tr th {\n",
       "        vertical-align: top;\n",
       "    }\n",
       "\n",
       "    .dataframe thead th {\n",
       "        text-align: right;\n",
       "    }\n",
       "</style>\n",
       "<table border=\"1\" class=\"dataframe\">\n",
       "  <thead>\n",
       "    <tr style=\"text-align: right;\">\n",
       "      <th></th>\n",
       "      <th>book_id</th>\n",
       "      <th>goodreads_book_id</th>\n",
       "      <th>best_book_id</th>\n",
       "      <th>work_id</th>\n",
       "      <th>books_count</th>\n",
       "      <th>isbn</th>\n",
       "      <th>isbn13</th>\n",
       "      <th>authors</th>\n",
       "      <th>original_publication_year</th>\n",
       "      <th>original_title</th>\n",
       "      <th>...</th>\n",
       "      <th>work_ratings_count</th>\n",
       "      <th>work_text_reviews_count</th>\n",
       "      <th>ratings_1</th>\n",
       "      <th>ratings_2</th>\n",
       "      <th>ratings_3</th>\n",
       "      <th>ratings_4</th>\n",
       "      <th>ratings_5</th>\n",
       "      <th>image_url</th>\n",
       "      <th>small_image_url</th>\n",
       "      <th>NonEnglish</th>\n",
       "    </tr>\n",
       "  </thead>\n",
       "  <tbody>\n",
       "    <tr>\n",
       "      <th>0</th>\n",
       "      <td>15</td>\n",
       "      <td>48855</td>\n",
       "      <td>48855</td>\n",
       "      <td>3532896</td>\n",
       "      <td>710</td>\n",
       "      <td>553296981</td>\n",
       "      <td>9.780553e+12</td>\n",
       "      <td>Anne Frank, Eleanor Roosevelt, B.M. Mooyaart-D...</td>\n",
       "      <td>1947.0</td>\n",
       "      <td>Het Achterhuis: Dagboekbrieven 14 juni 1942 - ...</td>\n",
       "      <td>...</td>\n",
       "      <td>2024493</td>\n",
       "      <td>20825</td>\n",
       "      <td>45225</td>\n",
       "      <td>91270</td>\n",
       "      <td>355756</td>\n",
       "      <td>656870</td>\n",
       "      <td>875372</td>\n",
       "      <td>https://images.gr-assets.com/books/1358276407m...</td>\n",
       "      <td>https://images.gr-assets.com/books/1358276407s...</td>\n",
       "      <td>0</td>\n",
       "    </tr>\n",
       "    <tr>\n",
       "      <th>1</th>\n",
       "      <td>40</td>\n",
       "      <td>19501</td>\n",
       "      <td>19501</td>\n",
       "      <td>3352398</td>\n",
       "      <td>185</td>\n",
       "      <td>143038419</td>\n",
       "      <td>9.780143e+12</td>\n",
       "      <td>Elizabeth Gilbert</td>\n",
       "      <td>2006.0</td>\n",
       "      <td>Eat, pray, love: one woman's search for everyt...</td>\n",
       "      <td>...</td>\n",
       "      <td>1206597</td>\n",
       "      <td>49714</td>\n",
       "      <td>100373</td>\n",
       "      <td>149549</td>\n",
       "      <td>310212</td>\n",
       "      <td>332191</td>\n",
       "      <td>314272</td>\n",
       "      <td>https://images.gr-assets.com/books/1503066414m...</td>\n",
       "      <td>https://images.gr-assets.com/books/1503066414s...</td>\n",
       "      <td>0</td>\n",
       "    </tr>\n",
       "    <tr>\n",
       "      <th>2</th>\n",
       "      <td>81</td>\n",
       "      <td>7445</td>\n",
       "      <td>7445</td>\n",
       "      <td>2944133</td>\n",
       "      <td>92</td>\n",
       "      <td>074324754X</td>\n",
       "      <td>9.780743e+12</td>\n",
       "      <td>Jeannette Walls</td>\n",
       "      <td>2005.0</td>\n",
       "      <td>The Glass Castle</td>\n",
       "      <td>...</td>\n",
       "      <td>637866</td>\n",
       "      <td>40777</td>\n",
       "      <td>7901</td>\n",
       "      <td>18922</td>\n",
       "      <td>85191</td>\n",
       "      <td>227750</td>\n",
       "      <td>298102</td>\n",
       "      <td>https://images.gr-assets.com/books/1400930557m...</td>\n",
       "      <td>https://images.gr-assets.com/books/1400930557s...</td>\n",
       "      <td>0</td>\n",
       "    </tr>\n",
       "    <tr>\n",
       "      <th>3</th>\n",
       "      <td>82</td>\n",
       "      <td>1845</td>\n",
       "      <td>1845</td>\n",
       "      <td>3284484</td>\n",
       "      <td>108</td>\n",
       "      <td>385486804</td>\n",
       "      <td>9.780385e+12</td>\n",
       "      <td>Jon Krakauer</td>\n",
       "      <td>1996.0</td>\n",
       "      <td>Into the Wild</td>\n",
       "      <td>...</td>\n",
       "      <td>665377</td>\n",
       "      <td>17299</td>\n",
       "      <td>19229</td>\n",
       "      <td>35567</td>\n",
       "      <td>135199</td>\n",
       "      <td>248287</td>\n",
       "      <td>227095</td>\n",
       "      <td>https://images.gr-assets.com/books/1403173986m...</td>\n",
       "      <td>https://images.gr-assets.com/books/1403173986s...</td>\n",
       "      <td>0</td>\n",
       "    </tr>\n",
       "    <tr>\n",
       "      <th>4</th>\n",
       "      <td>87</td>\n",
       "      <td>1617</td>\n",
       "      <td>1617</td>\n",
       "      <td>265616</td>\n",
       "      <td>109</td>\n",
       "      <td>374500010</td>\n",
       "      <td>9.780375e+12</td>\n",
       "      <td>Elie Wiesel, Marion Wiesel</td>\n",
       "      <td>1958.0</td>\n",
       "      <td>Un di Velt Hot Geshvign</td>\n",
       "      <td>...</td>\n",
       "      <td>707879</td>\n",
       "      <td>22001</td>\n",
       "      <td>7761</td>\n",
       "      <td>18539</td>\n",
       "      <td>90575</td>\n",
       "      <td>230227</td>\n",
       "      <td>360777</td>\n",
       "      <td>https://images.gr-assets.com/books/1473495285m...</td>\n",
       "      <td>https://images.gr-assets.com/books/1473495285s...</td>\n",
       "      <td>0</td>\n",
       "    </tr>\n",
       "    <tr>\n",
       "      <th>...</th>\n",
       "      <td>...</td>\n",
       "      <td>...</td>\n",
       "      <td>...</td>\n",
       "      <td>...</td>\n",
       "      <td>...</td>\n",
       "      <td>...</td>\n",
       "      <td>...</td>\n",
       "      <td>...</td>\n",
       "      <td>...</td>\n",
       "      <td>...</td>\n",
       "      <td>...</td>\n",
       "      <td>...</td>\n",
       "      <td>...</td>\n",
       "      <td>...</td>\n",
       "      <td>...</td>\n",
       "      <td>...</td>\n",
       "      <td>...</td>\n",
       "      <td>...</td>\n",
       "      <td>...</td>\n",
       "      <td>...</td>\n",
       "      <td>...</td>\n",
       "    </tr>\n",
       "    <tr>\n",
       "      <th>394</th>\n",
       "      <td>9788</td>\n",
       "      <td>23399022</td>\n",
       "      <td>23399022</td>\n",
       "      <td>42955411</td>\n",
       "      <td>21</td>\n",
       "      <td>525427651</td>\n",
       "      <td>9.780525e+12</td>\n",
       "      <td>Amanda Berry, Gina DeJesus, Mary Jordan, Kevin...</td>\n",
       "      <td>2015.0</td>\n",
       "      <td>Hope</td>\n",
       "      <td>...</td>\n",
       "      <td>9102</td>\n",
       "      <td>927</td>\n",
       "      <td>101</td>\n",
       "      <td>195</td>\n",
       "      <td>1180</td>\n",
       "      <td>3301</td>\n",
       "      <td>4325</td>\n",
       "      <td>https://images.gr-assets.com/books/1421708177m...</td>\n",
       "      <td>https://images.gr-assets.com/books/1421708177s...</td>\n",
       "      <td>0</td>\n",
       "    </tr>\n",
       "    <tr>\n",
       "      <th>395</th>\n",
       "      <td>9847</td>\n",
       "      <td>20685373</td>\n",
       "      <td>20685373</td>\n",
       "      <td>40000267</td>\n",
       "      <td>18</td>\n",
       "      <td>307720659</td>\n",
       "      <td>9.780308e+12</td>\n",
       "      <td>Suki Kim</td>\n",
       "      <td>2014.0</td>\n",
       "      <td>Without You, There Is No Us: My Time with the ...</td>\n",
       "      <td>...</td>\n",
       "      <td>10002</td>\n",
       "      <td>1426</td>\n",
       "      <td>145</td>\n",
       "      <td>523</td>\n",
       "      <td>2526</td>\n",
       "      <td>4328</td>\n",
       "      <td>2480</td>\n",
       "      <td>https://images.gr-assets.com/books/1405292426m...</td>\n",
       "      <td>https://images.gr-assets.com/books/1405292426s...</td>\n",
       "      <td>0</td>\n",
       "    </tr>\n",
       "    <tr>\n",
       "      <th>396</th>\n",
       "      <td>9887</td>\n",
       "      <td>503248</td>\n",
       "      <td>503248</td>\n",
       "      <td>491309</td>\n",
       "      <td>21</td>\n",
       "      <td>307381269</td>\n",
       "      <td>9.780307e+12</td>\n",
       "      <td>Howard Dully, Charles Fleming</td>\n",
       "      <td>2007.0</td>\n",
       "      <td>My Lobotomy</td>\n",
       "      <td>...</td>\n",
       "      <td>9615</td>\n",
       "      <td>1247</td>\n",
       "      <td>142</td>\n",
       "      <td>788</td>\n",
       "      <td>2979</td>\n",
       "      <td>3585</td>\n",
       "      <td>2121</td>\n",
       "      <td>https://images.gr-assets.com/books/1320449273m...</td>\n",
       "      <td>https://images.gr-assets.com/books/1320449273s...</td>\n",
       "      <td>0</td>\n",
       "    </tr>\n",
       "    <tr>\n",
       "      <th>397</th>\n",
       "      <td>9960</td>\n",
       "      <td>127970</td>\n",
       "      <td>127970</td>\n",
       "      <td>1066433</td>\n",
       "      <td>26</td>\n",
       "      <td>739416383</td>\n",
       "      <td>9.780739e+12</td>\n",
       "      <td>Terry Ryan</td>\n",
       "      <td>2001.0</td>\n",
       "      <td>The Prize Winner of Defiance, Ohio: How My Mot...</td>\n",
       "      <td>...</td>\n",
       "      <td>11151</td>\n",
       "      <td>1849</td>\n",
       "      <td>118</td>\n",
       "      <td>498</td>\n",
       "      <td>2739</td>\n",
       "      <td>4816</td>\n",
       "      <td>2980</td>\n",
       "      <td>https://s.gr-assets.com/assets/nophoto/book/11...</td>\n",
       "      <td>https://s.gr-assets.com/assets/nophoto/book/50...</td>\n",
       "      <td>0</td>\n",
       "    </tr>\n",
       "    <tr>\n",
       "      <th>398</th>\n",
       "      <td>9968</td>\n",
       "      <td>554674</td>\n",
       "      <td>554674</td>\n",
       "      <td>548132</td>\n",
       "      <td>34</td>\n",
       "      <td>60005777</td>\n",
       "      <td>9.780060e+12</td>\n",
       "      <td>Maria Augusta von Trapp</td>\n",
       "      <td>1949.0</td>\n",
       "      <td>The Story of the Trapp Family Singers</td>\n",
       "      <td>...</td>\n",
       "      <td>10234</td>\n",
       "      <td>599</td>\n",
       "      <td>297</td>\n",
       "      <td>518</td>\n",
       "      <td>2345</td>\n",
       "      <td>3406</td>\n",
       "      <td>3668</td>\n",
       "      <td>https://s.gr-assets.com/assets/nophoto/book/11...</td>\n",
       "      <td>https://s.gr-assets.com/assets/nophoto/book/50...</td>\n",
       "      <td>0</td>\n",
       "    </tr>\n",
       "  </tbody>\n",
       "</table>\n",
       "<p>399 rows × 24 columns</p>\n",
       "</div>"
      ],
      "text/plain": [
       "     book_id  goodreads_book_id  best_book_id   work_id  books_count  \\\n",
       "0         15              48855         48855   3532896          710   \n",
       "1         40              19501         19501   3352398          185   \n",
       "2         81               7445          7445   2944133           92   \n",
       "3         82               1845          1845   3284484          108   \n",
       "4         87               1617          1617    265616          109   \n",
       "..       ...                ...           ...       ...          ...   \n",
       "394     9788           23399022      23399022  42955411           21   \n",
       "395     9847           20685373      20685373  40000267           18   \n",
       "396     9887             503248        503248    491309           21   \n",
       "397     9960             127970        127970   1066433           26   \n",
       "398     9968             554674        554674    548132           34   \n",
       "\n",
       "           isbn        isbn13  \\\n",
       "0     553296981  9.780553e+12   \n",
       "1     143038419  9.780143e+12   \n",
       "2    074324754X  9.780743e+12   \n",
       "3     385486804  9.780385e+12   \n",
       "4     374500010  9.780375e+12   \n",
       "..          ...           ...   \n",
       "394   525427651  9.780525e+12   \n",
       "395   307720659  9.780308e+12   \n",
       "396   307381269  9.780307e+12   \n",
       "397   739416383  9.780739e+12   \n",
       "398    60005777  9.780060e+12   \n",
       "\n",
       "                                               authors  \\\n",
       "0    Anne Frank, Eleanor Roosevelt, B.M. Mooyaart-D...   \n",
       "1                                    Elizabeth Gilbert   \n",
       "2                                      Jeannette Walls   \n",
       "3                                         Jon Krakauer   \n",
       "4                           Elie Wiesel, Marion Wiesel   \n",
       "..                                                 ...   \n",
       "394  Amanda Berry, Gina DeJesus, Mary Jordan, Kevin...   \n",
       "395                                           Suki Kim   \n",
       "396                      Howard Dully, Charles Fleming   \n",
       "397                                         Terry Ryan   \n",
       "398                            Maria Augusta von Trapp   \n",
       "\n",
       "     original_publication_year  \\\n",
       "0                       1947.0   \n",
       "1                       2006.0   \n",
       "2                       2005.0   \n",
       "3                       1996.0   \n",
       "4                       1958.0   \n",
       "..                         ...   \n",
       "394                     2015.0   \n",
       "395                     2014.0   \n",
       "396                     2007.0   \n",
       "397                     2001.0   \n",
       "398                     1949.0   \n",
       "\n",
       "                                        original_title  ...  \\\n",
       "0    Het Achterhuis: Dagboekbrieven 14 juni 1942 - ...  ...   \n",
       "1    Eat, pray, love: one woman's search for everyt...  ...   \n",
       "2                                     The Glass Castle  ...   \n",
       "3                                        Into the Wild  ...   \n",
       "4                              Un di Velt Hot Geshvign  ...   \n",
       "..                                                 ...  ...   \n",
       "394                                               Hope  ...   \n",
       "395  Without You, There Is No Us: My Time with the ...  ...   \n",
       "396                                        My Lobotomy  ...   \n",
       "397  The Prize Winner of Defiance, Ohio: How My Mot...  ...   \n",
       "398              The Story of the Trapp Family Singers  ...   \n",
       "\n",
       "    work_ratings_count work_text_reviews_count  ratings_1  ratings_2  \\\n",
       "0              2024493                   20825      45225      91270   \n",
       "1              1206597                   49714     100373     149549   \n",
       "2               637866                   40777       7901      18922   \n",
       "3               665377                   17299      19229      35567   \n",
       "4               707879                   22001       7761      18539   \n",
       "..                 ...                     ...        ...        ...   \n",
       "394               9102                     927        101        195   \n",
       "395              10002                    1426        145        523   \n",
       "396               9615                    1247        142        788   \n",
       "397              11151                    1849        118        498   \n",
       "398              10234                     599        297        518   \n",
       "\n",
       "     ratings_3  ratings_4  ratings_5  \\\n",
       "0       355756     656870     875372   \n",
       "1       310212     332191     314272   \n",
       "2        85191     227750     298102   \n",
       "3       135199     248287     227095   \n",
       "4        90575     230227     360777   \n",
       "..         ...        ...        ...   \n",
       "394       1180       3301       4325   \n",
       "395       2526       4328       2480   \n",
       "396       2979       3585       2121   \n",
       "397       2739       4816       2980   \n",
       "398       2345       3406       3668   \n",
       "\n",
       "                                             image_url  \\\n",
       "0    https://images.gr-assets.com/books/1358276407m...   \n",
       "1    https://images.gr-assets.com/books/1503066414m...   \n",
       "2    https://images.gr-assets.com/books/1400930557m...   \n",
       "3    https://images.gr-assets.com/books/1403173986m...   \n",
       "4    https://images.gr-assets.com/books/1473495285m...   \n",
       "..                                                 ...   \n",
       "394  https://images.gr-assets.com/books/1421708177m...   \n",
       "395  https://images.gr-assets.com/books/1405292426m...   \n",
       "396  https://images.gr-assets.com/books/1320449273m...   \n",
       "397  https://s.gr-assets.com/assets/nophoto/book/11...   \n",
       "398  https://s.gr-assets.com/assets/nophoto/book/11...   \n",
       "\n",
       "                                       small_image_url  NonEnglish  \n",
       "0    https://images.gr-assets.com/books/1358276407s...           0  \n",
       "1    https://images.gr-assets.com/books/1503066414s...           0  \n",
       "2    https://images.gr-assets.com/books/1400930557s...           0  \n",
       "3    https://images.gr-assets.com/books/1403173986s...           0  \n",
       "4    https://images.gr-assets.com/books/1473495285s...           0  \n",
       "..                                                 ...         ...  \n",
       "394  https://images.gr-assets.com/books/1421708177s...           0  \n",
       "395  https://images.gr-assets.com/books/1405292426s...           0  \n",
       "396  https://images.gr-assets.com/books/1320449273s...           0  \n",
       "397  https://s.gr-assets.com/assets/nophoto/book/50...           0  \n",
       "398  https://s.gr-assets.com/assets/nophoto/book/50...           0  \n",
       "\n",
       "[399 rows x 24 columns]"
      ]
     },
     "execution_count": 3,
     "metadata": {},
     "output_type": "execute_result"
    }
   ],
   "source": [
    "df"
   ]
  },
  {
   "cell_type": "code",
   "execution_count": 4,
   "id": "7a8bf68f",
   "metadata": {},
   "outputs": [
    {
     "data": {
      "text/plain": [
       "Index(['book_id', 'goodreads_book_id', 'best_book_id', 'work_id',\n",
       "       'books_count', 'isbn', 'isbn13', 'authors', 'original_publication_year',\n",
       "       'original_title', 'title', 'language_code', 'average_rating',\n",
       "       'ratings_count', 'work_ratings_count', 'work_text_reviews_count',\n",
       "       'ratings_1', 'ratings_2', 'ratings_3', 'ratings_4', 'ratings_5',\n",
       "       'image_url', 'small_image_url', 'NonEnglish'],\n",
       "      dtype='object')"
      ]
     },
     "execution_count": 4,
     "metadata": {},
     "output_type": "execute_result"
    }
   ],
   "source": [
    "df.columns"
   ]
  },
  {
   "cell_type": "code",
   "execution_count": 5,
   "id": "1afd9c3a",
   "metadata": {},
   "outputs": [
    {
     "name": "stdout",
     "output_type": "stream",
     "text": [
      "<class 'pandas.core.frame.DataFrame'>\n",
      "RangeIndex: 399 entries, 0 to 398\n",
      "Data columns (total 24 columns):\n",
      " #   Column                     Non-Null Count  Dtype  \n",
      "---  ------                     --------------  -----  \n",
      " 0   book_id                    399 non-null    int64  \n",
      " 1   goodreads_book_id          399 non-null    int64  \n",
      " 2   best_book_id               399 non-null    int64  \n",
      " 3   work_id                    399 non-null    int64  \n",
      " 4   books_count                399 non-null    int64  \n",
      " 5   isbn                       388 non-null    object \n",
      " 6   isbn13                     389 non-null    float64\n",
      " 7   authors                    399 non-null    object \n",
      " 8   original_publication_year  399 non-null    float64\n",
      " 9   original_title             363 non-null    object \n",
      " 10  title                      399 non-null    object \n",
      " 11  language_code              356 non-null    object \n",
      " 12  average_rating             399 non-null    float64\n",
      " 13  ratings_count              399 non-null    int64  \n",
      " 14  work_ratings_count         399 non-null    int64  \n",
      " 15  work_text_reviews_count    399 non-null    int64  \n",
      " 16  ratings_1                  399 non-null    int64  \n",
      " 17  ratings_2                  399 non-null    int64  \n",
      " 18  ratings_3                  399 non-null    int64  \n",
      " 19  ratings_4                  399 non-null    int64  \n",
      " 20  ratings_5                  399 non-null    int64  \n",
      " 21  image_url                  399 non-null    object \n",
      " 22  small_image_url            399 non-null    object \n",
      " 23  NonEnglish                 399 non-null    int64  \n",
      "dtypes: float64(3), int64(14), object(7)\n",
      "memory usage: 74.9+ KB\n"
     ]
    }
   ],
   "source": [
    "df.info()"
   ]
  },
  {
   "cell_type": "code",
   "execution_count": 6,
   "id": "303d3bc1",
   "metadata": {},
   "outputs": [
    {
     "data": {
      "text/plain": [
       "(399, 24)"
      ]
     },
     "execution_count": 6,
     "metadata": {},
     "output_type": "execute_result"
    }
   ],
   "source": [
    "# 1. Number of rows and columns\n",
    "df.shape"
   ]
  },
  {
   "cell_type": "code",
   "execution_count": 7,
   "id": "c828a463",
   "metadata": {},
   "outputs": [
    {
     "data": {
      "text/plain": [
       "36"
      ]
     },
     "execution_count": 7,
     "metadata": {},
     "output_type": "execute_result"
    }
   ],
   "source": [
    "# 2. Books without original title\n",
    "df.original_title.isnull().sum()"
   ]
  },
  {
   "cell_type": "code",
   "execution_count": 8,
   "id": "36dbd390",
   "metadata": {},
   "outputs": [],
   "source": [
    "# dropping null values based on original title\n",
    "df.dropna(subset=['original_title'],inplace=True)"
   ]
  },
  {
   "cell_type": "code",
   "execution_count": 9,
   "id": "87dfc321",
   "metadata": {},
   "outputs": [
    {
     "data": {
      "text/plain": [
       "363"
      ]
     },
     "execution_count": 9,
     "metadata": {},
     "output_type": "execute_result"
    }
   ],
   "source": [
    "#3.  books are present in the dataset based on book id after droping null values in original title \n",
    "df.book_id.nunique()"
   ]
  },
  {
   "cell_type": "code",
   "execution_count": 10,
   "id": "f24b6635",
   "metadata": {},
   "outputs": [
    {
     "data": {
      "text/plain": [
       "3.9870798898071644"
      ]
     },
     "execution_count": 10,
     "metadata": {},
     "output_type": "execute_result"
    }
   ],
   "source": [
    "# 4. Average Rating of All the books in the dataset\n",
    "df.average_rating.mean()"
   ]
  },
  {
   "cell_type": "code",
   "execution_count": 11,
   "id": "586dda02",
   "metadata": {},
   "outputs": [
    {
     "data": {
      "text/plain": [
       "7"
      ]
     },
     "execution_count": 11,
     "metadata": {},
     "output_type": "execute_result"
    }
   ],
   "source": [
    "# 5. number of books published in the year '2000'\n",
    "df[df['original_publication_year']==2000]['book_id'].nunique()"
   ]
  },
  {
   "cell_type": "code",
   "execution_count": 12,
   "id": "23ede9f4",
   "metadata": {},
   "outputs": [
    {
     "data": {
      "text/plain": [
       "0    The Diary of a Young Girl\n",
       "Name: title, dtype: object"
      ]
     },
     "execution_count": 12,
     "metadata": {},
     "output_type": "execute_result"
    }
   ],
   "source": [
    "# 6. The title of the book with maximum work rating\n",
    "df[df['work_ratings_count']==df['work_ratings_count'].max()]['title']"
   ]
  },
  {
   "cell_type": "code",
   "execution_count": 13,
   "id": "f1a8f97f",
   "metadata": {},
   "outputs": [
    {
     "data": {
      "text/plain": [
       "array([4.1 , 3.51, 4.24, 3.94, 4.3 , 4.06, 4.09, 4.4 , 4.07, 3.96, 4.12,\n",
       "       4.04, 4.08, 4.11, 3.7 , 3.64, 3.84, 4.19, 4.25, 3.81, 4.05, 3.62,\n",
       "       3.68, 4.42, 4.  , 3.9 , 3.85, 4.32, 3.69, 3.67, 4.14, 4.29, 3.98,\n",
       "       4.23, 3.86, 3.57, 3.33, 3.95, 4.31, 3.97, 3.79, 4.03, 3.89, 3.77,\n",
       "       3.91, 4.01, 3.72, 3.99, 4.34, 3.87, 4.15, 4.2 , 4.18, 4.21, 3.93,\n",
       "       4.26, 3.92, 3.76, 3.66, 4.33, 4.17, 4.22, 4.16, 4.43, 3.8 , 3.83,\n",
       "       3.52, 4.28, 3.71, 3.88, 3.75, 3.73, 3.17, 3.13, 3.4 , 3.65, 3.42,\n",
       "       3.74, 3.58, 4.13, 3.82, 3.54, 4.39, 4.47, 3.63, 4.02, 4.46, 3.78,\n",
       "       4.41, 3.49, 4.48, 3.36, 4.27])"
      ]
     },
     "execution_count": 13,
     "metadata": {},
     "output_type": "execute_result"
    }
   ],
   "source": [
    "df.average_rating.unique()"
   ]
  },
  {
   "cell_type": "code",
   "execution_count": 14,
   "id": "0479a0b8",
   "metadata": {},
   "outputs": [],
   "source": [
    "# 7. creating given bins\n",
    "bins = [0, 0.5, 1.0, 1.5, 2.0, 2.5, 3.0, 3.5, 4.0, 4.5, 5.0]"
   ]
  },
  {
   "cell_type": "code",
   "execution_count": 15,
   "id": "b9d443d7",
   "metadata": {},
   "outputs": [],
   "source": [
    "# Bucket the 'average_rating' into the specified bins\n",
    "df['rating_bucket'] = pd.cut(df['average_rating'], bins=bins, right=False).apply(lambda x: x.left)\n",
    "\n",
    "# Count the number of books in each rating bucket\n",
    "bucket_counts = df['rating_bucket'].value_counts().sort_index()"
   ]
  },
  {
   "cell_type": "code",
   "execution_count": 16,
   "id": "e9cafd7b",
   "metadata": {},
   "outputs": [
    {
     "data": {
      "image/png": "[encoded data removed]",
      "text/plain": [
       "<Figure size 1080x504 with 1 Axes>"
      ]
     },
     "metadata": {
      "needs_background": "light"
     },
     "output_type": "display_data"
    }
   ],
   "source": [
    "# Barplot of number of books in Each Bucket\n",
    "plt.figure(figsize=(15,7))\n",
    "bucket_counts.plot(kind='bar',color='teal')\n",
    "plt.xlabel('Ratings')\n",
    "plt.ylabel('Count of Books')\n",
    "plt.title(\"Barplot Rating of Books\")\n",
    "plt.show()"
   ]
  },
  {
   "cell_type": "code",
   "execution_count": null,
   "id": "6650d930",
   "metadata": {},
   "outputs": [],
   "source": []
  }
 ],
 "metadata": {
  "kernelspec": {
   "display_name": "Python 3 (ipykernel)",
   "language": "python",
   "name": "python3"
  },
  "language_info": {
   "codemirror_mode": {
    "name": "ipython",
    "version": 3
   },
   "file_extension": ".py",
   "mimetype": "text/x-python",
   "name": "python",
   "nbconvert_exporter": "python",
   "pygments_lexer": "ipython3",
   "version": "3.9.7"
  }
 },
 "nbformat": 4,
 "nbformat_minor": 5
}
